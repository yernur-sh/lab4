{
 "cells": [
  {
   "cell_type": "markdown",
   "metadata": {},
   "source": [
    "DATE"
   ]
  },
  {
   "cell_type": "code",
   "execution_count": null,
   "metadata": {},
   "outputs": [],
   "source": [
    "from datetime import datetime , timedelta\n",
    "\n",
    "today= datetime.today()\n",
    "\n",
    "fda=today-timedelta(days=5)\n",
    "\n",
    "print (fda.date())"
   ]
  },
  {
   "cell_type": "code",
   "execution_count": 8,
   "metadata": {},
   "outputs": [
    {
     "name": "stdout",
     "output_type": "stream",
     "text": [
      " 2025-02-06 \n",
      " 2025-02-07 \n",
      " 2025-02-08 \n",
      "\n"
     ]
    }
   ],
   "source": [
    "from datetime import datetime, timedelta\n",
    "\n",
    "today= datetime.today()\n",
    "\n",
    "yesterday= today- timedelta(days=1)\n",
    "\n",
    "tomorrow= today + timedelta(days=1)\n",
    "\n",
    "print(\"\",yesterday.date(),'\\n', today.date(),'\\n', tomorrow.date(),'\\n')"
   ]
  },
  {
   "cell_type": "code",
   "execution_count": 11,
   "metadata": {},
   "outputs": [
    {
     "name": "stdout",
     "output_type": "stream",
     "text": [
      "Дата и время без микросекунд: 2025-02-07 17:48:08\n"
     ]
    }
   ],
   "source": [
    "from datetime import datetime\n",
    "\n",
    "\n",
    "now = datetime.now()\n",
    "\n",
    "\n",
    "now_without_microseconds = now.replace(microsecond=0)\n",
    "\n",
    "\n",
    "print(\"Дата и время без микросекунд:\", now_without_microseconds)\n"
   ]
  },
  {
   "cell_type": "code",
   "execution_count": 16,
   "metadata": {},
   "outputs": [
    {
     "name": "stdout",
     "output_type": "stream",
     "text": [
      "185400.0\n"
     ]
    }
   ],
   "source": [
    "from datetime import datetime , timedelta\n",
    "\n",
    "date1=datetime(2025, 2, 7, 12,0,0)\n",
    "date2=datetime(2025, 2,5, 8, 30,0)\n",
    "\n",
    "diff= date1-date2\n",
    "\n",
    "seconds=diff.total_seconds()\n",
    "\n",
    "print(seconds)\n",
    "\n",
    "\n"
   ]
  }
 ],
 "metadata": {
  "kernelspec": {
   "display_name": "Python 3",
   "language": "python",
   "name": "python3"
  },
  "language_info": {
   "codemirror_mode": {
    "name": "ipython",
    "version": 3
   },
   "file_extension": ".py",
   "mimetype": "text/x-python",
   "name": "python",
   "nbconvert_exporter": "python",
   "pygments_lexer": "ipython3",
   "version": "3.13.0"
  }
 },
 "nbformat": 4,
 "nbformat_minor": 2
}
