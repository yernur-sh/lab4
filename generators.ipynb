{
 "cells": [
  {
   "cell_type": "markdown",
   "metadata": {},
   "source": [
    "GENERATORS"
   ]
  },
  {
   "cell_type": "code",
   "execution_count": null,
   "metadata": {},
   "outputs": [],
   "source": [
    "def square_generator(N):\n",
    "    for i in range(N + 1):  \n",
    "        yield i ** 2 \n",
    "\n",
    "\n",
    "N = 5\n",
    "for square in square_generator(N):\n",
    "    print(square, end=\" \")  \n",
    "\n",
    "\n"
   ]
  },
  {
   "cell_type": "code",
   "execution_count": null,
   "metadata": {},
   "outputs": [],
   "source": [
    "n=int(input())\n",
    "\n",
    "def evenNum(n):\n",
    "    for i in range(0,n+1,2):\n",
    "        yield i\n",
    "\n",
    "print(\",\".join(map(str, evenNum(n))))"
   ]
  },
  {
   "cell_type": "code",
   "execution_count": null,
   "metadata": {},
   "outputs": [],
   "source": [
    "n=int(input())\n",
    "\n",
    "def fourthree(n):\n",
    "    for i in range(0, n+1, 1):\n",
    "        if i%3==0 and i%4==0:\n",
    "            yield i\n",
    "\n",
    "for num in fourthree(n):\n",
    "    print(num, end=\" \")\n",
    "        "
   ]
  },
  {
   "cell_type": "code",
   "execution_count": null,
   "metadata": {},
   "outputs": [],
   "source": [
    "a=int(input())\n",
    "b=int(input())\n",
    "\n",
    "def rangeNum(a,b):\n",
    "    for i in range(a, b+1):\n",
    "        yield i**2\n",
    "\n",
    "for num in rangeNum(a,b):\n",
    "    print(num,end=\" \")\n",
    "\n",
    "\n",
    "\n"
   ]
  },
  {
   "cell_type": "code",
   "execution_count": null,
   "metadata": {},
   "outputs": [],
   "source": [
    "n=int(input())\n",
    "\n",
    "def revNum(n):\n",
    "    for i in range(n, -1, -1):\n",
    "        yield i\n",
    "\n",
    "for num in revNum(n):\n",
    "    print(num, end=\" \")"
   ]
  }
 ],
 "metadata": {
  "kernelspec": {
   "display_name": "Python 3",
   "language": "python",
   "name": "python3"
  },
  "language_info": {
   "codemirror_mode": {
    "name": "ipython",
    "version": 3
   },
   "file_extension": ".py",
   "mimetype": "text/x-python",
   "name": "python",
   "nbconvert_exporter": "python",
   "pygments_lexer": "ipython3",
   "version": "3.13.0"
  }
 },
 "nbformat": 4,
 "nbformat_minor": 2
}
